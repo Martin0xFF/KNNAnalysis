{
 "cells": [
  {
   "cell_type": "code",
   "execution_count": 38,
   "metadata": {},
   "outputs": [],
   "source": [
    "%matplotlib widget\n",
    "import matplotlib.pyplot as plt\n",
    "from sklearn.neighbors import KDTree\n",
    "from data_utils import load_dataset\n",
    "from nearest import knn\n",
    "import numpy as np\n",
    "from numpy.linalg import svd , inv\n",
    "\n",
    "class linear():\n",
    "    \"\"\"\n",
    "    This is the only place I need to use a linear model for this assignment so I keep it in this file\n",
    "    Linear abstracts a linear model\n",
    "    \"\"\"\n",
    "    def __init__(self, loss=\"least squares\", w = None ):\n",
    "        self.loss = loss\n",
    "        self.w = w\n",
    "    \n",
    "    def calc_w(self, A, Y):\n",
    "        '''\n",
    "            Configures the weights of the model utilizing the closed form equation\n",
    "        '''\n",
    "        u, s, vh =svd(A.T, full_matrices = False) # economny version\n",
    "        \n",
    "        S_inv = inv(np.diag(s)) # calcuate the inverse\n",
    "        self.w = u.dot(S_inv).dot(vh).dot(Y) # do the dot products\n",
    "        return self.w\n",
    "    \n",
    "    def test_re(self,Xdata,T):\n",
    "        \"\"\"\n",
    "        Calculate RMSE from predicted values from Xdata and T (True/Target)\n",
    "        T is a matrix\n",
    "        \"\"\"\n",
    "        return np.sqrt(np.mean(np.square(self.predict(Xdata) - T)))\n",
    "    \n",
    "    def test_cl(self, Xdata, T):\n",
    "        '''\n",
    "        test - classification\n",
    "        One hot vector, will need to find the largest value then max it to one and set everything else to 0\n",
    "        '''\n",
    "        sample = self.predict(Xdata) # make predictions\n",
    "        pred = np.equal(sample, np.max(sample,axis = 1)[:,None]) # convert to one hot based on largest value\n",
    "        score = np.mean(pred == T) # compare and count correct\n",
    "        return score\n",
    "        \n",
    "        \n",
    "    def predict(self,X):\n",
    "        '''\n",
    "        Do a prediction on data matrix X\n",
    "        X must be present in homogenous form (i.e extra 1 as the first feature)\n",
    "        '''\n",
    "        if self.w is None:\n",
    "            print(\"Please initialize\")\n",
    "        return X.dot(self.w)"
   ]
  },
  {
   "cell_type": "code",
   "execution_count": 39,
   "metadata": {},
   "outputs": [
    {
     "name": "stdout",
     "output_type": "stream",
     "text": [
      "Test Regression RMSE: 0.34938831049910174\n"
     ]
    },
    {
     "data": {
      "application/vnd.jupyter.widget-view+json": {
       "model_id": "e77743a1d1da4b658d7410809167c640",
       "version_major": 2,
       "version_minor": 0
      },
      "text/plain": [
       "Canvas(toolbar=Toolbar(toolitems=[('Home', 'Reset original view', 'home', 'home'), ('Back', 'Back to previous …"
      ]
     },
     "metadata": {},
     "output_type": "display_data"
    },
    {
     "data": {
      "application/vnd.jupyter.widget-view+json": {
       "model_id": "5382865e1f7b4390b7c57fc64127a59b",
       "version_major": 2,
       "version_minor": 0
      },
      "text/plain": [
       "Canvas(toolbar=Toolbar(toolitems=[('Home', 'Reset original view', 'home', 'home'), ('Back', 'Back to previous …"
      ]
     },
     "metadata": {},
     "output_type": "display_data"
    }
   ],
   "source": [
    "# Mauna_loa\n",
    "# since I know what Mauna Loa looks like, I used it to develop my linear model\n",
    "# I plotted the linear regression of the data against the test set as well as the train + validation set in\n",
    "# the following figure.\n",
    "l = linear()\n",
    "xtrain, xvalid, xtest, ytrain, yvalid, ytest = load_dataset('mauna_loa')#, n_train=1000, d=2)\n",
    "X = np.vstack([xtrain, xvalid])\n",
    "Y = np.vstack([ytrain, yvalid])\n",
    "# Need to make X values Homogenous\n",
    "X = np.hstack([np.ones((X.shape[0], 1)),X])\n",
    "\n",
    "l.calc_w(X, Y)\n",
    "Xtest = np.hstack([np.ones((xtest.shape[0],1)), xtest])\n",
    "print(f\"Test Regression RMSE: {l.test_re(Xtest, ytest)}\")\n",
    "pred = l.predict(Xtest)\n",
    "\n",
    "\n",
    "fig = plt.figure()\n",
    "plt.plot( xtest, ytest)\n",
    "plt.plot( xtest, pred)\n",
    "plt.xlabel(\"x\")\n",
    "plt.ylabel(\"y\")\n",
    "plt.legend([\"True\", \"Predicted\"])\n",
    "plt.title(\"Mauna Loa\")\n",
    "plt.show()\n",
    "\n",
    "\n",
    "pred = l.predict(X)\n",
    "fig = plt.figure()\n",
    "plt.plot( np.vstack([xtrain, xvalid]), Y,\"x\")\n",
    "plt.plot( np.vstack([xtrain, xvalid]), pred,\"x\")\n",
    "plt.xlabel(\"x\")\n",
    "plt.ylabel(\"y\")\n",
    "plt.legend([\"True\", \"Predicted\"])\n",
    "plt.title(\"Mauna Loa\")\n",
    "plt.show()\n",
    "\n",
    "\n",
    "\n",
    "\n"
   ]
  },
  {
   "cell_type": "code",
   "execution_count": 32,
   "metadata": {},
   "outputs": [
    {
     "name": "stdout",
     "output_type": "stream",
     "text": [
      "Test Regression RMSE: 0.98408720306877\n"
     ]
    }
   ],
   "source": [
    "# Rosenbrock\n",
    "# Visualizing this data set is not as easy so I don't do that here\n",
    "# in a similar manner, I find the weights from the data then find RMSE on the test set\n",
    "l = linear()\n",
    "xtrain, xvalid, xtest, ytrain, yvalid, ytest = load_dataset('rosenbrock', n_train=1000, d=2)\n",
    "X = np.vstack([xtrain, xvalid])\n",
    "Y = np.vstack([ytrain, yvalid])\n",
    "# Need to make X values Homogenous\n",
    "X = np.hstack([np.ones((X.shape[0], 1)),X])\n",
    "\n",
    "l.calc_w(X, Y)\n",
    "Xtest = np.hstack([np.ones((xtest.shape[0],1)), xtest])\n",
    "print(f\"Test Regression RMSE: {l.test_re(Xtest, ytest)}\")\n"
   ]
  },
  {
   "cell_type": "code",
   "execution_count": 33,
   "metadata": {},
   "outputs": [
    {
     "name": "stdout",
     "output_type": "stream",
     "text": [
      "Test Regression RMSE: 0.8622512436598077\n"
     ]
    }
   ],
   "source": [
    "# Puma\n",
    "\n",
    "l = linear()\n",
    "xtrain, xvalid, xtest, ytrain, yvalid, ytest = load_dataset('pumadyn32nm')#, n_train=1000, d=2)\n",
    "X = np.vstack([xtrain, xvalid])\n",
    "Y = np.vstack([ytrain, yvalid])\n",
    "# Need to make X values Homogenous\n",
    "X = np.hstack([np.ones((X.shape[0], 1)),X])\n",
    "\n",
    "l.calc_w(X, Y)\n",
    "Xtest = np.hstack([np.ones((xtest.shape[0],1)), xtest])\n",
    "print(f\"Test Regression RMSE: {l.test_re(Xtest, ytest)}\")\n"
   ]
  },
  {
   "cell_type": "code",
   "execution_count": 42,
   "metadata": {
    "scrolled": true
   },
   "outputs": [
    {
     "name": "stdout",
     "output_type": "stream",
     "text": [
      "(15, 4)\n",
      "Test Correct Classifications: 0.9111111111111111\n"
     ]
    }
   ],
   "source": [
    "# iris\n",
    "l = linear()\n",
    "xtrain, xvalid, xtest, ytrain, yvalid, ytest = load_dataset('iris')#, n_train=1000, d=2)\n",
    "X = np.vstack([xtrain, xvalid])\n",
    "Y = np.vstack([ytrain, yvalid])\n",
    "# Need to make X values Homogenous\n",
    "X = np.hstack([np.ones((X.shape[0], 1)),X])\n",
    "\n",
    "l.calc_w(X, Y)\n",
    "Xtest = np.hstack([np.ones((xtest.shape[0],1)), xtest])\n",
    "print( xtest.shape)\n",
    "print(f\"Test Correct Classifications: {l.test_cl(Xtest, ytest)}\")\n",
    "\n"
   ]
  },
  {
   "cell_type": "code",
   "execution_count": 43,
   "metadata": {},
   "outputs": [
    {
     "name": "stdout",
     "output_type": "stream",
     "text": [
      "(1000, 784)\n",
      "Test Correct Classifications: 0.971\n"
     ]
    }
   ],
   "source": [
    "# Mnist small \n",
    "l = linear()\n",
    "xtrain, xvalid, xtest, ytrain, yvalid, ytest = load_dataset('mnist_small')#, n_train=1000, d=2)\n",
    "X = np.vstack([xtrain, xvalid])\n",
    "Y = np.vstack([ytrain, yvalid])\n",
    "# Need to make X values Homogenous\n",
    "X = np.hstack([np.ones((X.shape[0], 1)),X])\n",
    "\n",
    "l.calc_w(X, Y)\n",
    "Xtest = np.hstack([np.ones((xtest.shape[0],1)), xtest])\n",
    "print( xtest.shape)\n",
    "print(f\"Test Correct Classifications: {l.test_cl(Xtest, ytest)}\")\n",
    "\n"
   ]
  },
  {
   "cell_type": "code",
   "execution_count": null,
   "metadata": {},
   "outputs": [],
   "source": []
  },
  {
   "cell_type": "code",
   "execution_count": null,
   "metadata": {},
   "outputs": [],
   "source": []
  }
 ],
 "metadata": {
  "kernelspec": {
   "display_name": "Python 3",
   "language": "python",
   "name": "python3"
  },
  "language_info": {
   "codemirror_mode": {
    "name": "ipython",
    "version": 3
   },
   "file_extension": ".py",
   "mimetype": "text/x-python",
   "name": "python",
   "nbconvert_exporter": "python",
   "pygments_lexer": "ipython3",
   "version": "3.6.9"
  }
 },
 "nbformat": 4,
 "nbformat_minor": 4
}
