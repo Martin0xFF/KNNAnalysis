{
 "cells": [
  {
   "cell_type": "code",
   "execution_count": 1,
   "metadata": {},
   "outputs": [],
   "source": [
    "%matplotlib widget\n",
    "import matplotlib.pyplot as plt\n",
    "from sklearn.neighbors import KDTree\n",
    "from data_utils import load_dataset\n",
    "from nearest import knn\n",
    "import numpy as np\n",
    "\n",
    "# Here I just extend the KNN regression class I have and add new methods\n",
    "class knn_class(knn):\n",
    "    def cl(self, x_train, y_train, x_test):\n",
    "        \"\"\"\n",
    "        Classify - classify a bunch of data points from x_test, output are one hot encoded vectors like points of ytest\n",
    "        x_train - model feature data, used for prediction\n",
    "        y_train - model feature data, used for prediction\n",
    "        x_test - test feature data, used for prediction\n",
    "        \n",
    "        \"\"\"\n",
    "        t = KDTree(x_train, metric = 'euclidean' if self.dist_type == 'l2' else 'manhattan')\n",
    "        _, ind = t.query(x_test, k=self.k)\n",
    "        out = []\n",
    "        set_nn = y_train[ind]\n",
    "        \n",
    "        for i in range(set_nn.shape[0]):\n",
    "            vote, count = np.unique(set_nn[i,:,:], axis=0,return_counts=True)\n",
    "            out.append(vote[np.argmax(count)])\n",
    "            \n",
    "        \n",
    "        return np.array(out)\n",
    "    \n",
    "    def cl_validation(self, xdata, ydata, xvalid, yvalid):\n",
    "        \"\"\"\n",
    "        Perform classification validation with the validation set\n",
    "        x_data - model feature data, used for prediction\n",
    "        y_data - model feature data, used for prediction\n",
    "        x_valid - valid feature data, used for prediction\n",
    "        y_valid - valid target data, accuracy calculation\n",
    "        \n",
    "        \"\"\"\n",
    "        pred = self.cl(xdata, ydata, xvalid)\n",
    "        count = np.sum(np.all(np.equal(pred, yvalid), axis = 1)) # find all classifications which are equal then sum\n",
    "\n",
    "        score = count / yvalid.shape[0] # normalize by the number of points in y (i.e. if it is all correct you get 1.0)\n",
    "        return score\n",
    "    \n",
    "    def cl_cv(self, xdata, ydata, folds):\n",
    "        '''\n",
    "        Run cross validation on set\n",
    "        This is not used any where, I was just able to rip it from nearest.py\n",
    "        This helped to give me some insight during some explorations\n",
    "        '''\n",
    "        score = 0\n",
    "        prediction = []\n",
    "        xfolds = np.array_split(xdata, folds, axis=0,)\n",
    "        yfolds = np.array_split(ydata, folds, axis=0,)\n",
    "        for i in range(folds):\n",
    "                validx = xfolds[i]\n",
    "                trainx = np.vstack([xfolds[j] for j in range(folds) if j != i])\n",
    "                validy = yfolds[i]\n",
    "                trainy = np.vstack([yfolds[j] for j in range(folds) if j != i])\n",
    "                yhat = []\n",
    "                count = 0\n",
    "                for j in range(validx.shape[0]):\n",
    "                    pred = self.cl(trainx, trainy, validx[j])\n",
    "                    yhat.append(pred)\n",
    "                    count += np.sum(np.equal(np.array(pred), validy[j]).all())\n",
    "                yhat = np.array(yhat)\n",
    "                score += count\n",
    "        return score/ydata.shape[0]\n",
    "\n",
    "    \n",
    "    \n",
    "\n"
   ]
  },
  {
   "cell_type": "markdown",
   "metadata": {},
   "source": [
    "# Iris data set"
   ]
  },
  {
   "cell_type": "code",
   "execution_count": 2,
   "metadata": {},
   "outputs": [
    {
     "data": {
      "application/vnd.jupyter.widget-view+json": {
       "model_id": "e59329151582479e964f80b247115f92",
       "version_major": 2,
       "version_minor": 0
      },
      "text/plain": [
       "Canvas(toolbar=Toolbar(toolitems=[('Home', 'Reset original view', 'home', 'home'), ('Back', 'Back to previous …"
      ]
     },
     "metadata": {},
     "output_type": "display_data"
    },
    {
     "name": "stdout",
     "output_type": "stream",
     "text": [
      "1: Correct Classifications: 0.7741935483870968\n",
      "2: Correct Classifications: 0.8064516129032258\n",
      "3: Correct Classifications: 0.8064516129032258\n",
      "4: Correct Classifications: 0.8064516129032258\n",
      "5: Correct Classifications: 0.8387096774193549\n",
      "6: Correct Classifications: 0.8064516129032258\n",
      "7: Correct Classifications: 0.8709677419354839\n",
      "8: Correct Classifications: 0.8387096774193549\n",
      "9: Correct Classifications: 0.8709677419354839\n",
      "10: Correct Classifications: 0.8709677419354839\n",
      "11: Correct Classifications: 0.8709677419354839\n",
      "12: Correct Classifications: 0.8387096774193549\n",
      "13: Correct Classifications: 0.9032258064516129\n",
      "14: Correct Classifications: 0.8387096774193549\n",
      "15: Correct Classifications: 0.8709677419354839\n",
      "16: Correct Classifications: 0.9032258064516129\n",
      "17: Correct Classifications: 0.8387096774193549\n",
      "18: Correct Classifications: 0.8387096774193549\n",
      "19: Correct Classifications: 0.8709677419354839\n",
      "20: Correct Classifications: 0.8709677419354839\n",
      "21: Correct Classifications: 0.8387096774193549\n",
      "22: Correct Classifications: 0.8387096774193549\n",
      "23: Correct Classifications: 0.8387096774193549\n",
      "24: Correct Classifications: 0.8387096774193549\n",
      "25: Correct Classifications: 0.8387096774193549\n",
      "26: Correct Classifications: 0.8387096774193549\n",
      "27: Correct Classifications: 0.8387096774193549\n",
      "28: Correct Classifications: 0.8387096774193549\n",
      "29: Correct Classifications: 0.8387096774193549\n",
      "30: Correct Classifications: 0.8387096774193549\n",
      "31: Correct Classifications: 0.8387096774193549\n",
      "32: Correct Classifications: 0.8064516129032258\n",
      "33: Correct Classifications: 0.8387096774193549\n",
      "34: Correct Classifications: 0.8387096774193549\n",
      "35: Correct Classifications: 0.8387096774193549\n",
      "36: Correct Classifications: 0.8064516129032258\n",
      "37: Correct Classifications: 0.7741935483870968\n",
      "38: Correct Classifications: 0.7741935483870968\n",
      "39: Correct Classifications: 0.7741935483870968\n",
      "40: Correct Classifications: 0.8064516129032258\n",
      "41: Correct Classifications: 0.7741935483870968\n",
      "42: Correct Classifications: 0.7741935483870968\n",
      "43: Correct Classifications: 0.7741935483870968\n",
      "44: Correct Classifications: 0.7741935483870968\n",
      "45: Correct Classifications: 0.8064516129032258\n",
      "46: Correct Classifications: 0.7419354838709677\n",
      "47: Correct Classifications: 0.7741935483870968\n",
      "48: Correct Classifications: 0.7741935483870968\n",
      "49: Correct Classifications: 0.8064516129032258\n",
      "50: Correct Classifications: 0.7741935483870968\n",
      "51: Correct Classifications: 0.7741935483870968\n",
      "52: Correct Classifications: 0.8064516129032258\n",
      "53: Correct Classifications: 0.8064516129032258\n",
      "54: Correct Classifications: 0.8064516129032258\n",
      "55: Correct Classifications: 0.8064516129032258\n",
      "56: Correct Classifications: 0.7419354838709677\n",
      "57: Correct Classifications: 0.7741935483870968\n",
      "58: Correct Classifications: 0.7741935483870968\n",
      "59: Correct Classifications: 0.8064516129032258\n",
      "60: Correct Classifications: 0.7741935483870968\n",
      "61: Correct Classifications: 0.7741935483870968\n",
      "62: Correct Classifications: 0.7741935483870968\n",
      "63: Correct Classifications: 0.8064516129032258\n",
      "64: Correct Classifications: 0.8064516129032258\n",
      "65: Correct Classifications: 0.8064516129032258\n",
      "66: Correct Classifications: 0.8064516129032258\n",
      "67: Correct Classifications: 0.8064516129032258\n",
      "68: Correct Classifications: 0.8064516129032258\n",
      "69: Correct Classifications: 0.7419354838709677\n",
      "70: Correct Classifications: 0.7096774193548387\n",
      "71: Correct Classifications: 0.6451612903225806\n",
      "72: Correct Classifications: 0.6774193548387096\n",
      "73: Correct Classifications: 0.6774193548387096\n",
      "74: Correct Classifications: 0.6129032258064516\n",
      "75: Correct Classifications: 0.6129032258064516\n",
      "76: Correct Classifications: 0.6129032258064516\n",
      "77: Correct Classifications: 0.6451612903225806\n",
      "78: Correct Classifications: 0.6451612903225806\n",
      "79: Correct Classifications: 0.6451612903225806\n",
      "80: Correct Classifications: 0.6451612903225806\n",
      "81: Correct Classifications: 0.5806451612903226\n",
      "82: Correct Classifications: 0.5483870967741935\n",
      "83: Correct Classifications: 0.4838709677419355\n",
      "84: Correct Classifications: 0.4838709677419355\n",
      "85: Correct Classifications: 0.4838709677419355\n",
      "86: Correct Classifications: 0.4838709677419355\n",
      "87: Correct Classifications: 0.4838709677419355\n",
      "88: Correct Classifications: 0.4838709677419355\n",
      "89: Correct Classifications: 0.4838709677419355\n",
      "90: Correct Classifications: 0.45161290322580644\n",
      "91: Correct Classifications: 0.45161290322580644\n",
      "92: Correct Classifications: 0.45161290322580644\n",
      "93: Correct Classifications: 0.4838709677419355\n",
      "94: Correct Classifications: 0.4838709677419355\n",
      "95: Correct Classifications: 0.4838709677419355\n",
      "96: Correct Classifications: 0.41935483870967744\n",
      "97: Correct Classifications: 0.41935483870967744\n",
      "98: Correct Classifications: 0.3870967741935484\n",
      "99: Correct Classifications: 0.3870967741935484\n"
     ]
    }
   ],
   "source": [
    "#l2 distance\n",
    "# the exploration here is almost identical to Question 1\n",
    "# I just run my validation tests, get an accuracy for a given k, then plot it and find the max k\n",
    "# I also examine the distance metrics to determine which one I should use\n",
    "# the one with the greater accuracy for a given k will be the choice\n",
    "xtrain, xvalid, xtest, ytrain, yvalid, ytest = load_dataset('iris')\n",
    "scores = []\n",
    "predicted = []\n",
    "folds = 100\n",
    "#X = np.vstack([xvalid, xtrain ])\n",
    "#Y = np.vstack([yvalid, ytrain] )\n",
    "for k in range(1, folds):\n",
    "    nn = knn_class(k=k)\n",
    "    scores.append(nn.cl_validation(xtrain,ytrain, xvalid, yvalid))\n",
    "    predicted.append(nn.pred)\n",
    "\n",
    "fig = plt.figure()\n",
    "plt.plot( [j for j in range(1, folds)], scores)\n",
    "plt.xlabel(\"k\")\n",
    "plt.ylabel(\"Fraction of Correct Classifications\")\n",
    "plt.title(\"Correct Classifications compared to Knn\")\n",
    "plt.show()\n",
    "\n",
    "[print(f'{j + 1}: Correct Classifications: {scores[j]}') for j in range(folds - 1)];"
   ]
  },
  {
   "cell_type": "code",
   "execution_count": 4,
   "metadata": {},
   "outputs": [
    {
     "data": {
      "application/vnd.jupyter.widget-view+json": {
       "model_id": "af049748bb9f427da70b996e0f52fdfc",
       "version_major": 2,
       "version_minor": 0
      },
      "text/plain": [
       "Canvas(toolbar=Toolbar(toolitems=[('Home', 'Reset original view', 'home', 'home'), ('Back', 'Back to previous …"
      ]
     },
     "metadata": {},
     "output_type": "display_data"
    },
    {
     "name": "stdout",
     "output_type": "stream",
     "text": [
      "1: Correct Classifications: 0.7741935483870968\n",
      "2: Correct Classifications: 0.8064516129032258\n",
      "3: Correct Classifications: 0.7741935483870968\n",
      "4: Correct Classifications: 0.8064516129032258\n",
      "5: Correct Classifications: 0.8064516129032258\n",
      "6: Correct Classifications: 0.7741935483870968\n",
      "7: Correct Classifications: 0.8064516129032258\n",
      "8: Correct Classifications: 0.8064516129032258\n",
      "9: Correct Classifications: 0.8387096774193549\n",
      "10: Correct Classifications: 0.8387096774193549\n",
      "11: Correct Classifications: 0.8709677419354839\n",
      "12: Correct Classifications: 0.8709677419354839\n",
      "13: Correct Classifications: 0.8709677419354839\n",
      "14: Correct Classifications: 0.8709677419354839\n",
      "15: Correct Classifications: 0.8387096774193549\n",
      "16: Correct Classifications: 0.8387096774193549\n",
      "17: Correct Classifications: 0.8064516129032258\n",
      "18: Correct Classifications: 0.8387096774193549\n",
      "19: Correct Classifications: 0.8387096774193549\n",
      "20: Correct Classifications: 0.8387096774193549\n",
      "21: Correct Classifications: 0.8387096774193549\n",
      "22: Correct Classifications: 0.8387096774193549\n",
      "23: Correct Classifications: 0.8387096774193549\n",
      "24: Correct Classifications: 0.8064516129032258\n",
      "25: Correct Classifications: 0.8387096774193549\n",
      "26: Correct Classifications: 0.8387096774193549\n",
      "27: Correct Classifications: 0.8387096774193549\n",
      "28: Correct Classifications: 0.8064516129032258\n",
      "29: Correct Classifications: 0.8387096774193549\n",
      "30: Correct Classifications: 0.8387096774193549\n",
      "31: Correct Classifications: 0.8387096774193549\n",
      "32: Correct Classifications: 0.8387096774193549\n",
      "33: Correct Classifications: 0.8387096774193549\n",
      "34: Correct Classifications: 0.8387096774193549\n",
      "35: Correct Classifications: 0.8387096774193549\n",
      "36: Correct Classifications: 0.8387096774193549\n",
      "37: Correct Classifications: 0.8064516129032258\n",
      "38: Correct Classifications: 0.7741935483870968\n",
      "39: Correct Classifications: 0.7741935483870968\n",
      "40: Correct Classifications: 0.7741935483870968\n",
      "41: Correct Classifications: 0.7741935483870968\n",
      "42: Correct Classifications: 0.8064516129032258\n",
      "43: Correct Classifications: 0.7741935483870968\n",
      "44: Correct Classifications: 0.7741935483870968\n",
      "45: Correct Classifications: 0.7741935483870968\n",
      "46: Correct Classifications: 0.8064516129032258\n",
      "47: Correct Classifications: 0.7741935483870968\n",
      "48: Correct Classifications: 0.8064516129032258\n",
      "49: Correct Classifications: 0.8064516129032258\n",
      "50: Correct Classifications: 0.8064516129032258\n",
      "51: Correct Classifications: 0.8064516129032258\n",
      "52: Correct Classifications: 0.8064516129032258\n",
      "53: Correct Classifications: 0.8064516129032258\n",
      "54: Correct Classifications: 0.8064516129032258\n",
      "55: Correct Classifications: 0.8064516129032258\n",
      "56: Correct Classifications: 0.8064516129032258\n",
      "57: Correct Classifications: 0.8064516129032258\n",
      "58: Correct Classifications: 0.8064516129032258\n",
      "59: Correct Classifications: 0.8387096774193549\n",
      "60: Correct Classifications: 0.8064516129032258\n",
      "61: Correct Classifications: 0.8064516129032258\n",
      "62: Correct Classifications: 0.8064516129032258\n",
      "63: Correct Classifications: 0.8064516129032258\n",
      "64: Correct Classifications: 0.8064516129032258\n",
      "65: Correct Classifications: 0.8064516129032258\n",
      "66: Correct Classifications: 0.8064516129032258\n",
      "67: Correct Classifications: 0.8064516129032258\n",
      "68: Correct Classifications: 0.8064516129032258\n",
      "69: Correct Classifications: 0.8064516129032258\n",
      "70: Correct Classifications: 0.8064516129032258\n",
      "71: Correct Classifications: 0.7419354838709677\n",
      "72: Correct Classifications: 0.7419354838709677\n",
      "73: Correct Classifications: 0.7419354838709677\n",
      "74: Correct Classifications: 0.7096774193548387\n",
      "75: Correct Classifications: 0.7096774193548387\n",
      "76: Correct Classifications: 0.7096774193548387\n",
      "77: Correct Classifications: 0.7096774193548387\n",
      "78: Correct Classifications: 0.7096774193548387\n",
      "79: Correct Classifications: 0.7096774193548387\n",
      "80: Correct Classifications: 0.6774193548387096\n",
      "81: Correct Classifications: 0.6774193548387096\n",
      "82: Correct Classifications: 0.6774193548387096\n",
      "83: Correct Classifications: 0.6451612903225806\n",
      "84: Correct Classifications: 0.6451612903225806\n",
      "85: Correct Classifications: 0.3548387096774194\n",
      "86: Correct Classifications: 0.3548387096774194\n",
      "87: Correct Classifications: 0.3548387096774194\n",
      "88: Correct Classifications: 0.3548387096774194\n",
      "89: Correct Classifications: 0.3548387096774194\n",
      "90: Correct Classifications: 0.3548387096774194\n",
      "91: Correct Classifications: 0.3548387096774194\n",
      "92: Correct Classifications: 0.3548387096774194\n",
      "93: Correct Classifications: 0.3548387096774194\n",
      "94: Correct Classifications: 0.3548387096774194\n",
      "95: Correct Classifications: 0.3548387096774194\n",
      "96: Correct Classifications: 0.3548387096774194\n",
      "97: Correct Classifications: 0.3225806451612903\n",
      "98: Correct Classifications: 0.3225806451612903\n",
      "99: Correct Classifications: 0.3225806451612903\n"
     ]
    }
   ],
   "source": [
    "#l1 distance\n",
    "xtrain, xvalid, xtest, ytrain, yvalid, ytest = load_dataset('iris')#, n_train=1000, d=2)\n",
    "scores = []\n",
    "predicted = []\n",
    "folds = 100\n",
    "#X = np.vstack([xvalid, xtrain ])\n",
    "#Y = np.vstack([yvalid, ytrain] )\n",
    "for k in range(1, folds):\n",
    "    nn = knn_class(k=k, dist_type ='l1')\n",
    "    scores.append(nn.cl_validation(xtrain,ytrain, xvalid, yvalid))\n",
    "    predicted.append(nn.pred)\n",
    "\n",
    "fig = plt.figure()\n",
    "plt.plot( [j for j in range(1, folds)], scores)\n",
    "plt.xlabel(\"k\")\n",
    "plt.ylabel(\"Fraction of Correct Classifications\")\n",
    "plt.title(\"Correct Classifications compared to Knn\")\n",
    "plt.show()\n",
    "\n",
    "[print(f'{j + 1}: Correct Classifications: {scores[j]}') for j in range(folds - 1)];"
   ]
  },
  {
   "cell_type": "code",
   "execution_count": 5,
   "metadata": {},
   "outputs": [
    {
     "data": {
      "text/plain": [
       "1.0"
      ]
     },
     "execution_count": 5,
     "metadata": {},
     "output_type": "execute_result"
    }
   ],
   "source": [
    "# Test RMSE\n",
    "xtrain, xvalid, xtest, ytrain, yvalid, ytest = load_dataset('iris')#, n_train=1000, d=2)\n",
    "\n",
    "nn = knn_class(k=16, dist_type='l2')\n",
    "nn.cl_validation(np.vstack([xtrain, xvalid]), np.vstack([ytrain, yvalid]), xtest ,ytest )"
   ]
  },
  {
   "cell_type": "code",
   "execution_count": 6,
   "metadata": {},
   "outputs": [
    {
     "data": {
      "text/plain": [
       "(15, 3)"
      ]
     },
     "execution_count": 6,
     "metadata": {},
     "output_type": "execute_result"
    }
   ],
   "source": [
    "ytest.shape"
   ]
  },
  {
   "cell_type": "markdown",
   "metadata": {},
   "source": [
    "# Mnist"
   ]
  },
  {
   "cell_type": "code",
   "execution_count": 7,
   "metadata": {},
   "outputs": [
    {
     "data": {
      "application/vnd.jupyter.widget-view+json": {
       "model_id": "dc14913cb1194dc085a9bb27396d41a2",
       "version_major": 2,
       "version_minor": 0
      },
      "text/plain": [
       "Canvas(toolbar=Toolbar(toolitems=[('Home', 'Reset original view', 'home', 'home'), ('Back', 'Back to previous …"
      ]
     },
     "metadata": {},
     "output_type": "display_data"
    },
    {
     "name": "stdout",
     "output_type": "stream",
     "text": [
      "1: Correct Classifications: 0.95\n",
      "2: Correct Classifications: 0.945\n",
      "3: Correct Classifications: 0.949\n",
      "4: Correct Classifications: 0.947\n",
      "5: Correct Classifications: 0.946\n",
      "6: Correct Classifications: 0.943\n",
      "7: Correct Classifications: 0.949\n",
      "8: Correct Classifications: 0.946\n",
      "9: Correct Classifications: 0.943\n",
      "10: Correct Classifications: 0.937\n",
      "11: Correct Classifications: 0.94\n",
      "12: Correct Classifications: 0.937\n",
      "13: Correct Classifications: 0.935\n",
      "14: Correct Classifications: 0.937\n",
      "15: Correct Classifications: 0.933\n",
      "16: Correct Classifications: 0.931\n",
      "17: Correct Classifications: 0.932\n",
      "18: Correct Classifications: 0.927\n",
      "19: Correct Classifications: 0.927\n",
      "20: Correct Classifications: 0.925\n",
      "21: Correct Classifications: 0.926\n",
      "22: Correct Classifications: 0.922\n",
      "23: Correct Classifications: 0.922\n",
      "24: Correct Classifications: 0.921\n",
      "25: Correct Classifications: 0.917\n",
      "26: Correct Classifications: 0.916\n",
      "27: Correct Classifications: 0.917\n",
      "28: Correct Classifications: 0.916\n",
      "29: Correct Classifications: 0.915\n",
      "30: Correct Classifications: 0.917\n",
      "31: Correct Classifications: 0.917\n",
      "32: Correct Classifications: 0.918\n",
      "33: Correct Classifications: 0.92\n",
      "34: Correct Classifications: 0.92\n",
      "35: Correct Classifications: 0.916\n",
      "36: Correct Classifications: 0.912\n",
      "37: Correct Classifications: 0.917\n",
      "38: Correct Classifications: 0.913\n",
      "39: Correct Classifications: 0.915\n",
      "40: Correct Classifications: 0.914\n",
      "41: Correct Classifications: 0.915\n",
      "42: Correct Classifications: 0.912\n",
      "43: Correct Classifications: 0.914\n",
      "44: Correct Classifications: 0.912\n",
      "45: Correct Classifications: 0.913\n",
      "46: Correct Classifications: 0.912\n",
      "47: Correct Classifications: 0.91\n",
      "48: Correct Classifications: 0.903\n",
      "49: Correct Classifications: 0.904\n"
     ]
    }
   ],
   "source": [
    "#l2 distance\n",
    "xtrain, xvalid, xtest, ytrain, yvalid, ytest = load_dataset('mnist_small')#, n_train=1000, d=2)\n",
    "scores = []\n",
    "predicted = []\n",
    "folds = [j for j in range(1, 50)]\n",
    "#X = np.vstack([xvalid, xtrain ])\n",
    "#Y = np.vstack([yvalid, ytrain] )\n",
    "for k in folds:\n",
    "    nn = knn_class(k=k)\n",
    "    scores.append(nn.cl_validation(xtrain,ytrain, xvalid, yvalid))\n",
    "    predicted.append(nn.pred)\n",
    "\n",
    "fig = plt.figure()\n",
    "plt.plot( folds, scores)\n",
    "plt.xlabel(\"k\")\n",
    "plt.ylabel(\"Fraction of Correct Classifications\")\n",
    "plt.title(\"Correct Classifications compared to Knn\")\n",
    "plt.show()\n",
    "\n",
    "[print(f'{folds[j]}: Correct Classifications: {scores[j]}') for j in range(len(folds))];"
   ]
  },
  {
   "cell_type": "code",
   "execution_count": 8,
   "metadata": {},
   "outputs": [
    {
     "ename": "KeyboardInterrupt",
     "evalue": "",
     "output_type": "error",
     "traceback": [
      "\u001b[0;31m---------------------------------------------------------------------------\u001b[0m",
      "\u001b[0;31mKeyboardInterrupt\u001b[0m                         Traceback (most recent call last)",
      "\u001b[0;32m<ipython-input-8-a1ecb5b1db1a>\u001b[0m in \u001b[0;36m<module>\u001b[0;34m\u001b[0m\n\u001b[1;32m      8\u001b[0m \u001b[0;32mfor\u001b[0m \u001b[0mk\u001b[0m \u001b[0;32min\u001b[0m \u001b[0mfolds\u001b[0m\u001b[0;34m:\u001b[0m\u001b[0;34m\u001b[0m\u001b[0;34m\u001b[0m\u001b[0m\n\u001b[1;32m      9\u001b[0m     \u001b[0mnn\u001b[0m \u001b[0;34m=\u001b[0m \u001b[0mknn_class\u001b[0m\u001b[0;34m(\u001b[0m\u001b[0mk\u001b[0m\u001b[0;34m=\u001b[0m\u001b[0mk\u001b[0m\u001b[0;34m,\u001b[0m \u001b[0mdist_type\u001b[0m \u001b[0;34m=\u001b[0m\u001b[0;34m'l1'\u001b[0m\u001b[0;34m)\u001b[0m\u001b[0;34m\u001b[0m\u001b[0;34m\u001b[0m\u001b[0m\n\u001b[0;32m---> 10\u001b[0;31m     \u001b[0mscores\u001b[0m\u001b[0;34m.\u001b[0m\u001b[0mappend\u001b[0m\u001b[0;34m(\u001b[0m\u001b[0mnn\u001b[0m\u001b[0;34m.\u001b[0m\u001b[0mcl_validation\u001b[0m\u001b[0;34m(\u001b[0m\u001b[0mxtrain\u001b[0m\u001b[0;34m,\u001b[0m\u001b[0mytrain\u001b[0m\u001b[0;34m,\u001b[0m \u001b[0mxvalid\u001b[0m\u001b[0;34m,\u001b[0m \u001b[0myvalid\u001b[0m\u001b[0;34m)\u001b[0m\u001b[0;34m)\u001b[0m\u001b[0;34m\u001b[0m\u001b[0;34m\u001b[0m\u001b[0m\n\u001b[0m\u001b[1;32m     11\u001b[0m     \u001b[0mpredicted\u001b[0m\u001b[0;34m.\u001b[0m\u001b[0mappend\u001b[0m\u001b[0;34m(\u001b[0m\u001b[0mnn\u001b[0m\u001b[0;34m.\u001b[0m\u001b[0mpred\u001b[0m\u001b[0;34m)\u001b[0m\u001b[0;34m\u001b[0m\u001b[0;34m\u001b[0m\u001b[0m\n\u001b[1;32m     12\u001b[0m \u001b[0;34m\u001b[0m\u001b[0m\n",
      "\u001b[0;32m<ipython-input-1-d7b00bf350a6>\u001b[0m in \u001b[0;36mcl_validation\u001b[0;34m(self, xdata, ydata, xvalid, yvalid)\u001b[0m\n\u001b[1;32m     37\u001b[0m \u001b[0;34m\u001b[0m\u001b[0m\n\u001b[1;32m     38\u001b[0m         \"\"\"\n\u001b[0;32m---> 39\u001b[0;31m         \u001b[0mpred\u001b[0m \u001b[0;34m=\u001b[0m \u001b[0mself\u001b[0m\u001b[0;34m.\u001b[0m\u001b[0mcl\u001b[0m\u001b[0;34m(\u001b[0m\u001b[0mxdata\u001b[0m\u001b[0;34m,\u001b[0m \u001b[0mydata\u001b[0m\u001b[0;34m,\u001b[0m \u001b[0mxvalid\u001b[0m\u001b[0;34m)\u001b[0m\u001b[0;34m\u001b[0m\u001b[0;34m\u001b[0m\u001b[0m\n\u001b[0m\u001b[1;32m     40\u001b[0m         \u001b[0mcount\u001b[0m \u001b[0;34m=\u001b[0m \u001b[0mnp\u001b[0m\u001b[0;34m.\u001b[0m\u001b[0msum\u001b[0m\u001b[0;34m(\u001b[0m\u001b[0mnp\u001b[0m\u001b[0;34m.\u001b[0m\u001b[0mall\u001b[0m\u001b[0;34m(\u001b[0m\u001b[0mnp\u001b[0m\u001b[0;34m.\u001b[0m\u001b[0mequal\u001b[0m\u001b[0;34m(\u001b[0m\u001b[0mpred\u001b[0m\u001b[0;34m,\u001b[0m \u001b[0myvalid\u001b[0m\u001b[0;34m)\u001b[0m\u001b[0;34m,\u001b[0m \u001b[0maxis\u001b[0m \u001b[0;34m=\u001b[0m \u001b[0;36m1\u001b[0m\u001b[0;34m)\u001b[0m\u001b[0;34m)\u001b[0m \u001b[0;31m# find all classifications which are equal then sum\u001b[0m\u001b[0;34m\u001b[0m\u001b[0;34m\u001b[0m\u001b[0m\n\u001b[1;32m     41\u001b[0m \u001b[0;34m\u001b[0m\u001b[0m\n",
      "\u001b[0;32m<ipython-input-1-d7b00bf350a6>\u001b[0m in \u001b[0;36mcl\u001b[0;34m(self, x_train, y_train, x_test)\u001b[0m\n\u001b[1;32m     17\u001b[0m         \"\"\"\n\u001b[1;32m     18\u001b[0m         \u001b[0mt\u001b[0m \u001b[0;34m=\u001b[0m \u001b[0mKDTree\u001b[0m\u001b[0;34m(\u001b[0m\u001b[0mx_train\u001b[0m\u001b[0;34m,\u001b[0m \u001b[0mmetric\u001b[0m \u001b[0;34m=\u001b[0m \u001b[0;34m'euclidean'\u001b[0m \u001b[0;32mif\u001b[0m \u001b[0mself\u001b[0m\u001b[0;34m.\u001b[0m\u001b[0mdist_type\u001b[0m \u001b[0;34m==\u001b[0m \u001b[0;34m'l2'\u001b[0m \u001b[0;32melse\u001b[0m \u001b[0;34m'manhattan'\u001b[0m\u001b[0;34m)\u001b[0m\u001b[0;34m\u001b[0m\u001b[0;34m\u001b[0m\u001b[0m\n\u001b[0;32m---> 19\u001b[0;31m         \u001b[0m_\u001b[0m\u001b[0;34m,\u001b[0m \u001b[0mind\u001b[0m \u001b[0;34m=\u001b[0m \u001b[0mt\u001b[0m\u001b[0;34m.\u001b[0m\u001b[0mquery\u001b[0m\u001b[0;34m(\u001b[0m\u001b[0mx_test\u001b[0m\u001b[0;34m,\u001b[0m \u001b[0mk\u001b[0m\u001b[0;34m=\u001b[0m\u001b[0mself\u001b[0m\u001b[0;34m.\u001b[0m\u001b[0mk\u001b[0m\u001b[0;34m)\u001b[0m\u001b[0;34m\u001b[0m\u001b[0;34m\u001b[0m\u001b[0m\n\u001b[0m\u001b[1;32m     20\u001b[0m         \u001b[0mout\u001b[0m \u001b[0;34m=\u001b[0m \u001b[0;34m[\u001b[0m\u001b[0;34m]\u001b[0m\u001b[0;34m\u001b[0m\u001b[0;34m\u001b[0m\u001b[0m\n\u001b[1;32m     21\u001b[0m         \u001b[0mset_nn\u001b[0m \u001b[0;34m=\u001b[0m \u001b[0my_train\u001b[0m\u001b[0;34m[\u001b[0m\u001b[0mind\u001b[0m\u001b[0;34m]\u001b[0m\u001b[0;34m\u001b[0m\u001b[0;34m\u001b[0m\u001b[0m\n",
      "\u001b[0;31mKeyboardInterrupt\u001b[0m: "
     ]
    }
   ],
   "source": [
    "#l1 distance\n",
    "xtrain, xvalid, xtest, ytrain, yvalid, ytest = load_dataset('mnist_small')#, n_train=1000, d=2)\n",
    "scores = []\n",
    "predicted = []\n",
    "folds = [j for j in range(1, 50)]\n",
    "#X = np.vstack([xvalid, xtrain ])\n",
    "#Y = np.vstack([yvalid, ytrain] )\n",
    "for k in folds:\n",
    "    nn = knn_class(k=k, dist_type ='l1')\n",
    "    scores.append(nn.cl_validation(xtrain,ytrain, xvalid, yvalid))\n",
    "    predicted.append(nn.pred)\n",
    "\n",
    "fig = plt.figure()\n",
    "plt.plot( folds, scores)\n",
    "plt.xlabel(\"k\")\n",
    "plt.ylabel(\"Fraction of Correct Classifications\")\n",
    "plt.title(\"Correct Classifications compared to Knn\")\n",
    "plt.show()\n",
    "\n",
    "[print(f'{folds[j]}: Correct Classifications: {scores[j]}') for j in range(len(folds))];"
   ]
  },
  {
   "cell_type": "code",
   "execution_count": 9,
   "metadata": {},
   "outputs": [
    {
     "data": {
      "text/plain": [
       "0.959"
      ]
     },
     "execution_count": 9,
     "metadata": {},
     "output_type": "execute_result"
    }
   ],
   "source": [
    "# Test RMSE\n",
    "xtrain, xvalid, xtest, ytrain, yvalid, ytest = load_dataset('mnist_small')#, n_train=1000, d=2)\n",
    "nn = knn_class(k=1, dist_type='l2')\n",
    "nn.cl_validation(np.vstack([xtrain, xvalid]), np.vstack([ytrain, yvalid]), xtest ,ytest )"
   ]
  },
  {
   "cell_type": "code",
   "execution_count": null,
   "metadata": {},
   "outputs": [],
   "source": []
  }
 ],
 "metadata": {
  "kernelspec": {
   "display_name": "Python 3",
   "language": "python",
   "name": "python3"
  },
  "language_info": {
   "codemirror_mode": {
    "name": "ipython",
    "version": 3
   },
   "file_extension": ".py",
   "mimetype": "text/x-python",
   "name": "python",
   "nbconvert_exporter": "python",
   "pygments_lexer": "ipython3",
   "version": "3.6.9"
  }
 },
 "nbformat": 4,
 "nbformat_minor": 4
}
