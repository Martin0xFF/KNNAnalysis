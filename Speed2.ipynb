{
 "cells": [
  {
   "cell_type": "code",
   "execution_count": 2,
   "metadata": {},
   "outputs": [],
   "source": [
    "%matplotlib widget\n",
    "import matplotlib.pyplot as plt\n",
    "from sklearn.neighbors import KDTree # get KDTree\n",
    "from data_utils import load_dataset\n",
    "from nearest import knn\n",
    "import numpy as np\n",
    "import time"
   ]
  },
  {
   "cell_type": "code",
   "execution_count": 5,
   "metadata": {},
   "outputs": [],
   "source": [
    "# configure\n",
    "k = 5\n",
    "dist = \"l2\"\n",
    "nn = knn(k=k, dist_type = dist)\n",
    "\n",
    "d_homebrew_time = {} # Homebrew is the Brute force method hand written by me\n",
    "d_scibrand_time = {} # scibrand is the KDTree method, but I do also still calculate mean from NN\n",
    "for d in range(2,101):\n",
    "    xtrain, xvalid, xtest, ytrain, yvalid, ytest = load_dataset('rosenbrock', n_train=5000, d=d)\n",
    "    X = np.vstack([xtrain, xvalid])\n",
    "    Y = np.vstack([ytrain, yvalid])\n",
    "    start = time.time() # start counting for homebrew\n",
    "    nn.batch_re(X, Y, xtest)\n",
    "    d_homebrew_time[d] = time.time()-start # stop and save homebrew\n",
    "    \n",
    "for d in range(2,101):\n",
    "    xtrain, xvalid, xtest, ytrain, yvalid, ytest = load_dataset('rosenbrock', n_train=5000, d=d)\n",
    "    X = np.vstack([xtrain, xvalid])\n",
    "    Y = np.vstack([ytrain, yvalid])   \n",
    "    start = time.time() # start counting for scibrand\n",
    "    tr = KDTree(X)\n",
    "    _, ind = tr.query(X,k=k) # don't care about distances, send to _\n",
    "    kdre = np.mean(Y[ind], axis= 1) # make the prediction so that we are fair to homebrew\n",
    "    d_scibrand_time[d] = time.time()-start # stop counting for scibrand and save"
   ]
  },
  {
   "cell_type": "code",
   "execution_count": 6,
   "metadata": {},
   "outputs": [
    {
     "data": {
      "application/vnd.jupyter.widget-view+json": {
       "model_id": "4af6e42b04dc4d42b94100b36314aa80",
       "version_major": 2,
       "version_minor": 0
      },
      "text/plain": [
       "Canvas(toolbar=Toolbar(toolitems=[('Home', 'Reset original view', 'home', 'home'), ('Back', 'Back to previous …"
      ]
     },
     "metadata": {},
     "output_type": "display_data"
    }
   ],
   "source": [
    "fig = plt.figure()\n",
    "plt.plot(list(d_scibrand_time.keys()), list(d_scibrand_time.values()))\n",
    "plt.plot(list(d_homebrew_time.keys()), list(d_homebrew_time.values()))\n",
    "plt.legend([\" KDTree\",\"Handmade\"])\n",
    "plt.xlabel(\"d\")\n",
    "plt.ylabel(\"time (s)\")\n",
    "plt.title(\"Regression speed\")\n",
    "plt.xscale(\"log\")\n",
    "plt.show()"
   ]
  },
  {
   "cell_type": "code",
   "execution_count": 10,
   "metadata": {},
   "outputs": [
    {
     "data": {
      "text/plain": [
       "array([[-0.31555487],\n",
       "       [-0.10747033],\n",
       "       [ 0.10432513],\n",
       "       ...,\n",
       "       [-0.5232489 ],\n",
       "       [-0.47418771],\n",
       "       [ 0.21078155]])"
      ]
     },
     "execution_count": 10,
     "metadata": {},
     "output_type": "execute_result"
    }
   ],
   "source": [
    "kdre # just look at kdtree regression to see if it looks like a legitimate prediction\n",
    "# for the next time based performance exercise I will likely consider using timeit or some other utility designed \n",
    "# for such a purpose, ther timing of my homebrew algo is a bit variable."
   ]
  },
  {
   "cell_type": "code",
   "execution_count": null,
   "metadata": {},
   "outputs": [],
   "source": []
  }
 ],
 "metadata": {
  "kernelspec": {
   "display_name": "Python 3",
   "language": "python",
   "name": "python3"
  },
  "language_info": {
   "codemirror_mode": {
    "name": "ipython",
    "version": 3
   },
   "file_extension": ".py",
   "mimetype": "text/x-python",
   "name": "python",
   "nbconvert_exporter": "python",
   "pygments_lexer": "ipython3",
   "version": "3.6.9"
  }
 },
 "nbformat": 4,
 "nbformat_minor": 4
}
